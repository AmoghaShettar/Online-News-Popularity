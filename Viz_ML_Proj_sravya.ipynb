{
  "cells": [
    {
      "cell_type": "code",
      "execution_count": 3,
      "metadata": {
        "id": "ozSVn84IU-Du"
      },
      "outputs": [],
      "source": [
        "import pandas as pd\n",
        "import numpy as np"
      ]
    },
    {
      "cell_type": "code",
      "execution_count": 4,
      "metadata": {
        "id": "c0WO20tNVKLP",
        "colab": {
          "base_uri": "https://localhost:8080/"
        },
        "outputId": "d7c8d1c2-4e35-4fe4-8a3b-5176b22658fb"
      },
      "outputs": [
        {
          "output_type": "stream",
          "name": "stderr",
          "text": [
            "/usr/local/lib/python3.8/dist-packages/IPython/core/interactiveshell.py:3326: DtypeWarning: Columns (51) have mixed types.Specify dtype option on import or set low_memory=False.\n",
            "  exec(code_obj, self.user_global_ns, self.user_ns)\n"
          ]
        }
      ],
      "source": [
        "df = pd.read_csv('OnlineNewsPopularity.csv')"
      ]
    },
    {
      "cell_type": "code",
      "execution_count": 5,
      "metadata": {
        "colab": {
          "base_uri": "https://localhost:8080/",
          "height": 386
        },
        "id": "bWgcnb99Vjlg",
        "outputId": "69ea85cf-019a-4fb0-9d88-f6ac41c8821e"
      },
      "outputs": [
        {
          "output_type": "execute_result",
          "data": {
            "text/plain": [
              "                                                 url   timedelta  \\\n",
              "0  http://mashable.com/2013/01/07/amazon-instant-...       731.0   \n",
              "1  http://mashable.com/2013/01/07/ap-samsung-spon...       731.0   \n",
              "2  http://mashable.com/2013/01/07/apple-40-billio...       731.0   \n",
              "3  http://mashable.com/2013/01/07/astronaut-notre...       731.0   \n",
              "4   http://mashable.com/2013/01/07/att-u-verse-apps/       731.0   \n",
              "\n",
              "    n_tokens_title   n_tokens_content   n_unique_tokens   n_non_stop_words  \\\n",
              "0             12.0              219.0          0.663594                1.0   \n",
              "1              9.0              255.0          0.604743                1.0   \n",
              "2              9.0              211.0          0.575130                1.0   \n",
              "3              9.0              531.0          0.503788                1.0   \n",
              "4             13.0             1072.0          0.415646                1.0   \n",
              "\n",
              "    n_non_stop_unique_tokens   num_hrefs   num_self_hrefs   num_imgs  ...  \\\n",
              "0                   0.815385         4.0              2.0        1.0  ...   \n",
              "1                   0.791946         3.0              1.0        1.0  ...   \n",
              "2                   0.663866         3.0              1.0        1.0  ...   \n",
              "3                   0.665635         9.0              0.0        1.0  ...   \n",
              "4                   0.540890        19.0             19.0       20.0  ...   \n",
              "\n",
              "    min_positive_polarity   max_positive_polarity   avg_negative_polarity  \\\n",
              "0                     0.1                     0.7               -0.350000   \n",
              "1                0.033333                     0.7               -0.118750   \n",
              "2                     0.1                     1.0               -0.466667   \n",
              "3                0.136364                     0.8               -0.369697   \n",
              "4                0.033333                     1.0               -0.220192   \n",
              "\n",
              "    min_negative_polarity   max_negative_polarity   title_subjectivity  \\\n",
              "0                  -0.600               -0.200000             0.500000   \n",
              "1                  -0.125               -0.100000             0.000000   \n",
              "2                  -0.800               -0.133333             0.000000   \n",
              "3                  -0.600               -0.166667             0.000000   \n",
              "4                  -0.500               -0.050000             0.454545   \n",
              "\n",
              "    title_sentiment_polarity   abs_title_subjectivity  \\\n",
              "0                  -0.187500                 0.000000   \n",
              "1                   0.000000                 0.500000   \n",
              "2                   0.000000                 0.500000   \n",
              "3                   0.000000                 0.500000   \n",
              "4                   0.136364                 0.045455   \n",
              "\n",
              "    abs_title_sentiment_polarity   shares  \n",
              "0                       0.187500    593.0  \n",
              "1                       0.000000    711.0  \n",
              "2                       0.000000   1500.0  \n",
              "3                       0.000000   1200.0  \n",
              "4                       0.136364    505.0  \n",
              "\n",
              "[5 rows x 61 columns]"
            ],
            "text/html": [
              "\n",
              "  <div id=\"df-18104116-117b-431c-bfe4-fefd47bb2b0a\">\n",
              "    <div class=\"colab-df-container\">\n",
              "      <div>\n",
              "<style scoped>\n",
              "    .dataframe tbody tr th:only-of-type {\n",
              "        vertical-align: middle;\n",
              "    }\n",
              "\n",
              "    .dataframe tbody tr th {\n",
              "        vertical-align: top;\n",
              "    }\n",
              "\n",
              "    .dataframe thead th {\n",
              "        text-align: right;\n",
              "    }\n",
              "</style>\n",
              "<table border=\"1\" class=\"dataframe\">\n",
              "  <thead>\n",
              "    <tr style=\"text-align: right;\">\n",
              "      <th></th>\n",
              "      <th>url</th>\n",
              "      <th>timedelta</th>\n",
              "      <th>n_tokens_title</th>\n",
              "      <th>n_tokens_content</th>\n",
              "      <th>n_unique_tokens</th>\n",
              "      <th>n_non_stop_words</th>\n",
              "      <th>n_non_stop_unique_tokens</th>\n",
              "      <th>num_hrefs</th>\n",
              "      <th>num_self_hrefs</th>\n",
              "      <th>num_imgs</th>\n",
              "      <th>...</th>\n",
              "      <th>min_positive_polarity</th>\n",
              "      <th>max_positive_polarity</th>\n",
              "      <th>avg_negative_polarity</th>\n",
              "      <th>min_negative_polarity</th>\n",
              "      <th>max_negative_polarity</th>\n",
              "      <th>title_subjectivity</th>\n",
              "      <th>title_sentiment_polarity</th>\n",
              "      <th>abs_title_subjectivity</th>\n",
              "      <th>abs_title_sentiment_polarity</th>\n",
              "      <th>shares</th>\n",
              "    </tr>\n",
              "  </thead>\n",
              "  <tbody>\n",
              "    <tr>\n",
              "      <th>0</th>\n",
              "      <td>http://mashable.com/2013/01/07/amazon-instant-...</td>\n",
              "      <td>731.0</td>\n",
              "      <td>12.0</td>\n",
              "      <td>219.0</td>\n",
              "      <td>0.663594</td>\n",
              "      <td>1.0</td>\n",
              "      <td>0.815385</td>\n",
              "      <td>4.0</td>\n",
              "      <td>2.0</td>\n",
              "      <td>1.0</td>\n",
              "      <td>...</td>\n",
              "      <td>0.1</td>\n",
              "      <td>0.7</td>\n",
              "      <td>-0.350000</td>\n",
              "      <td>-0.600</td>\n",
              "      <td>-0.200000</td>\n",
              "      <td>0.500000</td>\n",
              "      <td>-0.187500</td>\n",
              "      <td>0.000000</td>\n",
              "      <td>0.187500</td>\n",
              "      <td>593.0</td>\n",
              "    </tr>\n",
              "    <tr>\n",
              "      <th>1</th>\n",
              "      <td>http://mashable.com/2013/01/07/ap-samsung-spon...</td>\n",
              "      <td>731.0</td>\n",
              "      <td>9.0</td>\n",
              "      <td>255.0</td>\n",
              "      <td>0.604743</td>\n",
              "      <td>1.0</td>\n",
              "      <td>0.791946</td>\n",
              "      <td>3.0</td>\n",
              "      <td>1.0</td>\n",
              "      <td>1.0</td>\n",
              "      <td>...</td>\n",
              "      <td>0.033333</td>\n",
              "      <td>0.7</td>\n",
              "      <td>-0.118750</td>\n",
              "      <td>-0.125</td>\n",
              "      <td>-0.100000</td>\n",
              "      <td>0.000000</td>\n",
              "      <td>0.000000</td>\n",
              "      <td>0.500000</td>\n",
              "      <td>0.000000</td>\n",
              "      <td>711.0</td>\n",
              "    </tr>\n",
              "    <tr>\n",
              "      <th>2</th>\n",
              "      <td>http://mashable.com/2013/01/07/apple-40-billio...</td>\n",
              "      <td>731.0</td>\n",
              "      <td>9.0</td>\n",
              "      <td>211.0</td>\n",
              "      <td>0.575130</td>\n",
              "      <td>1.0</td>\n",
              "      <td>0.663866</td>\n",
              "      <td>3.0</td>\n",
              "      <td>1.0</td>\n",
              "      <td>1.0</td>\n",
              "      <td>...</td>\n",
              "      <td>0.1</td>\n",
              "      <td>1.0</td>\n",
              "      <td>-0.466667</td>\n",
              "      <td>-0.800</td>\n",
              "      <td>-0.133333</td>\n",
              "      <td>0.000000</td>\n",
              "      <td>0.000000</td>\n",
              "      <td>0.500000</td>\n",
              "      <td>0.000000</td>\n",
              "      <td>1500.0</td>\n",
              "    </tr>\n",
              "    <tr>\n",
              "      <th>3</th>\n",
              "      <td>http://mashable.com/2013/01/07/astronaut-notre...</td>\n",
              "      <td>731.0</td>\n",
              "      <td>9.0</td>\n",
              "      <td>531.0</td>\n",
              "      <td>0.503788</td>\n",
              "      <td>1.0</td>\n",
              "      <td>0.665635</td>\n",
              "      <td>9.0</td>\n",
              "      <td>0.0</td>\n",
              "      <td>1.0</td>\n",
              "      <td>...</td>\n",
              "      <td>0.136364</td>\n",
              "      <td>0.8</td>\n",
              "      <td>-0.369697</td>\n",
              "      <td>-0.600</td>\n",
              "      <td>-0.166667</td>\n",
              "      <td>0.000000</td>\n",
              "      <td>0.000000</td>\n",
              "      <td>0.500000</td>\n",
              "      <td>0.000000</td>\n",
              "      <td>1200.0</td>\n",
              "    </tr>\n",
              "    <tr>\n",
              "      <th>4</th>\n",
              "      <td>http://mashable.com/2013/01/07/att-u-verse-apps/</td>\n",
              "      <td>731.0</td>\n",
              "      <td>13.0</td>\n",
              "      <td>1072.0</td>\n",
              "      <td>0.415646</td>\n",
              "      <td>1.0</td>\n",
              "      <td>0.540890</td>\n",
              "      <td>19.0</td>\n",
              "      <td>19.0</td>\n",
              "      <td>20.0</td>\n",
              "      <td>...</td>\n",
              "      <td>0.033333</td>\n",
              "      <td>1.0</td>\n",
              "      <td>-0.220192</td>\n",
              "      <td>-0.500</td>\n",
              "      <td>-0.050000</td>\n",
              "      <td>0.454545</td>\n",
              "      <td>0.136364</td>\n",
              "      <td>0.045455</td>\n",
              "      <td>0.136364</td>\n",
              "      <td>505.0</td>\n",
              "    </tr>\n",
              "  </tbody>\n",
              "</table>\n",
              "<p>5 rows × 61 columns</p>\n",
              "</div>\n",
              "      <button class=\"colab-df-convert\" onclick=\"convertToInteractive('df-18104116-117b-431c-bfe4-fefd47bb2b0a')\"\n",
              "              title=\"Convert this dataframe to an interactive table.\"\n",
              "              style=\"display:none;\">\n",
              "        \n",
              "  <svg xmlns=\"http://www.w3.org/2000/svg\" height=\"24px\"viewBox=\"0 0 24 24\"\n",
              "       width=\"24px\">\n",
              "    <path d=\"M0 0h24v24H0V0z\" fill=\"none\"/>\n",
              "    <path d=\"M18.56 5.44l.94 2.06.94-2.06 2.06-.94-2.06-.94-.94-2.06-.94 2.06-2.06.94zm-11 1L8.5 8.5l.94-2.06 2.06-.94-2.06-.94L8.5 2.5l-.94 2.06-2.06.94zm10 10l.94 2.06.94-2.06 2.06-.94-2.06-.94-.94-2.06-.94 2.06-2.06.94z\"/><path d=\"M17.41 7.96l-1.37-1.37c-.4-.4-.92-.59-1.43-.59-.52 0-1.04.2-1.43.59L10.3 9.45l-7.72 7.72c-.78.78-.78 2.05 0 2.83L4 21.41c.39.39.9.59 1.41.59.51 0 1.02-.2 1.41-.59l7.78-7.78 2.81-2.81c.8-.78.8-2.07 0-2.86zM5.41 20L4 18.59l7.72-7.72 1.47 1.35L5.41 20z\"/>\n",
              "  </svg>\n",
              "      </button>\n",
              "      \n",
              "  <style>\n",
              "    .colab-df-container {\n",
              "      display:flex;\n",
              "      flex-wrap:wrap;\n",
              "      gap: 12px;\n",
              "    }\n",
              "\n",
              "    .colab-df-convert {\n",
              "      background-color: #E8F0FE;\n",
              "      border: none;\n",
              "      border-radius: 50%;\n",
              "      cursor: pointer;\n",
              "      display: none;\n",
              "      fill: #1967D2;\n",
              "      height: 32px;\n",
              "      padding: 0 0 0 0;\n",
              "      width: 32px;\n",
              "    }\n",
              "\n",
              "    .colab-df-convert:hover {\n",
              "      background-color: #E2EBFA;\n",
              "      box-shadow: 0px 1px 2px rgba(60, 64, 67, 0.3), 0px 1px 3px 1px rgba(60, 64, 67, 0.15);\n",
              "      fill: #174EA6;\n",
              "    }\n",
              "\n",
              "    [theme=dark] .colab-df-convert {\n",
              "      background-color: #3B4455;\n",
              "      fill: #D2E3FC;\n",
              "    }\n",
              "\n",
              "    [theme=dark] .colab-df-convert:hover {\n",
              "      background-color: #434B5C;\n",
              "      box-shadow: 0px 1px 3px 1px rgba(0, 0, 0, 0.15);\n",
              "      filter: drop-shadow(0px 1px 2px rgba(0, 0, 0, 0.3));\n",
              "      fill: #FFFFFF;\n",
              "    }\n",
              "  </style>\n",
              "\n",
              "      <script>\n",
              "        const buttonEl =\n",
              "          document.querySelector('#df-18104116-117b-431c-bfe4-fefd47bb2b0a button.colab-df-convert');\n",
              "        buttonEl.style.display =\n",
              "          google.colab.kernel.accessAllowed ? 'block' : 'none';\n",
              "\n",
              "        async function convertToInteractive(key) {\n",
              "          const element = document.querySelector('#df-18104116-117b-431c-bfe4-fefd47bb2b0a');\n",
              "          const dataTable =\n",
              "            await google.colab.kernel.invokeFunction('convertToInteractive',\n",
              "                                                     [key], {});\n",
              "          if (!dataTable) return;\n",
              "\n",
              "          const docLinkHtml = 'Like what you see? Visit the ' +\n",
              "            '<a target=\"_blank\" href=https://colab.research.google.com/notebooks/data_table.ipynb>data table notebook</a>'\n",
              "            + ' to learn more about interactive tables.';\n",
              "          element.innerHTML = '';\n",
              "          dataTable['output_type'] = 'display_data';\n",
              "          await google.colab.output.renderOutput(dataTable, element);\n",
              "          const docLink = document.createElement('div');\n",
              "          docLink.innerHTML = docLinkHtml;\n",
              "          element.appendChild(docLink);\n",
              "        }\n",
              "      </script>\n",
              "    </div>\n",
              "  </div>\n",
              "  "
            ]
          },
          "metadata": {},
          "execution_count": 5
        }
      ],
      "source": [
        "df.head()"
      ]
    },
    {
      "cell_type": "code",
      "execution_count": 6,
      "metadata": {
        "colab": {
          "base_uri": "https://localhost:8080/"
        },
        "id": "GnVNuhN-Vpmo",
        "outputId": "9e6a20dc-b24c-4d91-f7e3-7481993a3d7e"
      },
      "outputs": [
        {
          "output_type": "execute_result",
          "data": {
            "text/plain": [
              "Index(['url', ' timedelta', ' n_tokens_title', ' n_tokens_content',\n",
              "       ' n_unique_tokens', ' n_non_stop_words', ' n_non_stop_unique_tokens',\n",
              "       ' num_hrefs', ' num_self_hrefs', ' num_imgs', ' num_videos',\n",
              "       ' average_token_length', ' num_keywords', ' data_channel_is_lifestyle',\n",
              "       ' data_channel_is_entertainment', ' data_channel_is_bus',\n",
              "       ' data_channel_is_socmed', ' data_channel_is_tech',\n",
              "       ' data_channel_is_world', ' kw_min_min', ' kw_max_min', ' kw_avg_min',\n",
              "       ' kw_min_max', ' kw_max_max', ' kw_avg_max', ' kw_min_avg',\n",
              "       ' kw_max_avg', ' kw_avg_avg', ' self_reference_min_shares',\n",
              "       ' self_reference_max_shares', ' self_reference_avg_sharess',\n",
              "       ' weekday_is_monday', ' weekday_is_tuesday', ' weekday_is_wednesday',\n",
              "       ' weekday_is_thursday', ' weekday_is_friday', ' weekday_is_saturday',\n",
              "       ' weekday_is_sunday', ' is_weekend', ' LDA_00', ' LDA_01', ' LDA_02',\n",
              "       ' LDA_03', ' LDA_04', ' global_subjectivity',\n",
              "       ' global_sentiment_polarity', ' global_rate_positive_words',\n",
              "       ' global_rate_negative_words', ' rate_positive_words',\n",
              "       ' rate_negative_words', ' avg_positive_polarity',\n",
              "       ' min_positive_polarity', ' max_positive_polarity',\n",
              "       ' avg_negative_polarity', ' min_negative_polarity',\n",
              "       ' max_negative_polarity', ' title_subjectivity',\n",
              "       ' title_sentiment_polarity', ' abs_title_subjectivity',\n",
              "       ' abs_title_sentiment_polarity', ' shares'],\n",
              "      dtype='object')"
            ]
          },
          "metadata": {},
          "execution_count": 6
        }
      ],
      "source": [
        "df.columns"
      ]
    },
    {
      "cell_type": "code",
      "execution_count": 7,
      "metadata": {
        "id": "xwuUkapwWiZd"
      },
      "outputs": [],
      "source": [
        "dict = {' weekday_is_monday': 'Monday',\n",
        "        ' weekday_is_tuesday': 'Tuesday',\n",
        "        ' weekday_is_wednesday': 'Wednesday',\n",
        "        ' weekday_is_thursday': 'Thursday',\n",
        "        ' weekday_is_friday': 'Friday',\n",
        "        ' weekday_is_saturday': \"Saturday\",\n",
        "        ' weekday_is_sunday': 'Sunday'}\n",
        " \n",
        "# call rename () method\n",
        "df.rename(columns=dict,\n",
        "          inplace=True)\n"
      ]
    },
    {
      "cell_type": "code",
      "execution_count": 8,
      "metadata": {
        "colab": {
          "base_uri": "https://localhost:8080/",
          "height": 355
        },
        "id": "DcvaeZudVuR-",
        "outputId": "94d0f4c6-0ff0-4c4d-e174-f231d6245a9d"
      },
      "outputs": [
        {
          "output_type": "display_data",
          "data": {
            "text/plain": [
              "<Figure size 936x360 with 1 Axes>"
            ],
            "image/png": "[encoded data removed]"
          },
          "metadata": {
            "needs_background": "light"
          }
        }
      ],
      "source": [
        "# Visualize the feature of different day of week\n",
        "columns_day = df.columns.values[31:38]\n",
        "unpop=df[df[' shares']<1400]\n",
        "pop=df[df[' shares']>=1400]\n",
        "unpop_day = unpop[columns_day].sum().values\n",
        "pop_day = pop[columns_day].sum().values\n",
        "\n",
        "import matplotlib.pyplot as pl\n",
        "from IPython import get_ipython\n",
        "get_ipython().run_line_magic('matplotlib', 'inline')\n",
        "\n",
        "fig = pl.figure(figsize = (13,5))\n",
        "pl.title(\"Days of week vs Counts of popular and unpopular news\", fontsize = 16)\n",
        "pl.bar(np.arange(len(columns_day)), pop_day, width = 0.3, align=\"center\", color = 'g', \\\n",
        "          label = \"popular\")\n",
        "pl.bar(np.arange(len(columns_day)) - 0.3, unpop_day, width = 0.3, align = \"center\", color = 'r', \\\n",
        "          label = \"unpopular\")\n",
        "pl.xticks(np.arange(len(columns_day)), columns_day)\n",
        "pl.ylabel(\"Counts\", fontsize = 12)\n",
        "pl.xlabel(\"Day\", fontsize = 12)\n",
        "    \n",
        "pl.legend(loc = 'upper left')\n",
        "pl.show()  "
      ]
    },
    {
      "cell_type": "code",
      "execution_count": 9,
      "metadata": {
        "colab": {
          "base_uri": "https://localhost:8080/",
          "height": 355
        },
        "id": "ZLYJ66txYHr_",
        "outputId": "a6dd1282-2760-48eb-fba4-1bdcfe8e79dc"
      },
      "outputs": [
        {
          "output_type": "display_data",
          "data": {
            "text/plain": [
              "<Figure size 936x360 with 1 Axes>"
            ],
            "image/png": "[encoded data removed]"
          },
          "metadata": {
            "needs_background": "light"
          }
        }
      ],
      "source": [
        "# Visualize the feature of different day of week\n",
        "columns_day = df.columns.values[31:38]\n",
        "shares = df[columns_day].sum().values\n",
        "\n",
        "import matplotlib.pyplot as pl\n",
        "from IPython import get_ipython\n",
        "get_ipython().run_line_magic('matplotlib', 'inline')\n",
        "\n",
        "fig = pl.figure(figsize = (13,5))\n",
        "pl.title(\"Days of week vs Share counts\", fontsize = 16)\n",
        "pl.bar(np.arange(len(columns_day)), shares, width = 0.3, align=\"center\", color = 'g')\n",
        "pl.xticks(np.arange(len(columns_day)), columns_day)\n",
        "pl.ylabel(\"Counts\", fontsize = 12)\n",
        "pl.xlabel(\"Day\", fontsize = 12)\n",
        "    \n",
        "pl.show()  "
      ]
    },
    {
      "cell_type": "code",
      "execution_count": 10,
      "metadata": {
        "id": "Du58oE12ZCkA"
      },
      "outputs": [],
      "source": [
        "dict = {' data_channel_is_lifestyle': 'Lifestyle',\n",
        "        ' data_channel_is_entertainment': 'Entertainment',\n",
        "        ' data_channel_is_bus': 'Business',\n",
        "        ' data_channel_is_socmed': 'Social Media',\n",
        "        ' data_channel_is_tech': 'Tech',\n",
        "        ' data_channel_is_world': \"World\"}\n",
        " \n",
        "df.rename(columns=dict,\n",
        "          inplace=True)"
      ]
    },
    {
      "cell_type": "code",
      "execution_count": 11,
      "metadata": {
        "colab": {
          "base_uri": "https://localhost:8080/",
          "height": 355
        },
        "id": "V3gqlPEeZ5Qv",
        "outputId": "14fd99fa-0dc3-4894-ba96-7ab6ee80239e"
      },
      "outputs": [
        {
          "output_type": "display_data",
          "data": {
            "text/plain": [
              "<Figure size 936x360 with 1 Axes>"
            ],
            "image/png": "[encoded data removed]"
          },
          "metadata": {
            "needs_background": "light"
          }
        }
      ],
      "source": [
        "# Visualize the feature of news channel type\n",
        "columns_day = df.columns.values[13:19]\n",
        "shares = df[columns_day].sum().values\n",
        "\n",
        "import matplotlib.pyplot as pl\n",
        "from IPython import get_ipython\n",
        "get_ipython().run_line_magic('matplotlib', 'inline')\n",
        "\n",
        "fig = pl.figure(figsize = (13,5))\n",
        "pl.title(\"News channel type vs Share counts\", fontsize = 16)\n",
        "pl.bar(np.arange(len(columns_day)), shares, width = 0.3, align=\"center\", color = 'g')\n",
        "pl.xticks(np.arange(len(columns_day)), columns_day)\n",
        "pl.ylabel(\"Counts\", fontsize = 12)\n",
        "pl.xlabel(\"Channel Type\", fontsize = 12)\n",
        "    \n",
        "pl.show()  "
      ]
    },
    {
      "cell_type": "code",
      "execution_count": 13,
      "metadata": {
        "colab": {
          "base_uri": "https://localhost:8080/",
          "height": 355
        },
        "id": "qZeY5mjEZgbL",
        "outputId": "371e4081-b998-4ae0-ebe0-890060b35da1"
      },
      "outputs": [
        {
          "output_type": "display_data",
          "data": {
            "text/plain": [
              "<Figure size 936x360 with 1 Axes>"
            ],
            "image/png": "[encoded data removed]"
          },
          "metadata": {
            "needs_background": "light"
          }
        }
      ],
      "source": [
        "# Visualize the feature of different day of week\n",
        "columns_day = df.columns.values[13:19]\n",
        "unpop=df[df[' shares']<1400]\n",
        "pop=df[df[' shares']>=1400]\n",
        "unpop_day = unpop[columns_day].sum().values\n",
        "pop_day = pop[columns_day].sum().values\n",
        "\n",
        "import matplotlib.pyplot as pl\n",
        "from IPython import get_ipython\n",
        "get_ipython().run_line_magic('matplotlib', 'inline')\n",
        "\n",
        "fig = pl.figure(figsize = (13,5))\n",
        "pl.title(\"News channel type vs Counts of popular and unpopular news\", fontsize = 16)\n",
        "pl.bar(np.arange(len(columns_day)), pop_day, width = 0.3, align=\"center\", color = 'g', \\\n",
        "          label = \"popular\")\n",
        "pl.bar(np.arange(len(columns_day)) - 0.3, unpop_day, width = 0.3, align = \"center\", color = 'r', \\\n",
        "          label = \"unpopular\")\n",
        "pl.xticks(np.arange(len(columns_day)), columns_day)\n",
        "pl.ylabel(\"Counts\", fontsize = 12)\n",
        "pl.xlabel(\"Channel Type\", fontsize = 12)\n",
        "    \n",
        "pl.legend(loc = 'upper left')\n",
        "pl.show()  "
      ]
    }
  ],
  "metadata": {
    "colab": {
      "provenance": []
    },
    "kernelspec": {
      "display_name": "Python 3",
      "name": "python3"
    },
    "language_info": {
      "name": "python"
    }
  },
  "nbformat": 4,
  "nbformat_minor": 0
}